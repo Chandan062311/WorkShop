{
 "cells": [
  {
   "cell_type": "markdown",
   "id": "introduction",
   "metadata": {},
   "source": [
    "# Introduction to NumPy and Pandas\n",
    "\n",
    "In this notebook, you'll learn the basics of **NumPy** and **Pandas**. We'll cover creating arrays and dataframes, performing basic operations, and you'll find exercises along the way to test your understanding."
   ]
  },
  {
   "cell_type": "code",
   "execution_count": null,
   "id": "import-libraries",
   "metadata": {},
   "outputs": [],
   "source": [
    "# Import necessary libraries\n",
    "import numpy as np\n",
    "import pandas as pd\n",
    "\n",
    "# For reproducibility\n",
    "np.random.seed(42)"
   ]
  },
  {
   "cell_type": "markdown",
   "id": "numpy-basics",
   "metadata": {},
   "source": [
    "## NumPy Basics: Creating and Manipulating Arrays\n",
    "\n",
    "NumPy is the fundamental package for numerical computing in Python. \n",
    "\n",
    "### Key Concepts:\n",
    "- **Array Creation:** Create arrays from lists or using functions like `np.arange()` or `np.linspace()`.\n",
    "- **Basic Operations:** Arrays support element-wise operations, which makes arithmetic operations very efficient.\n",
    "\n",
    "Let's see an example of creating a NumPy array and performing basic arithmetic:"
   ]
  },
  {
   "cell_type": "code",
   "execution_count": null,
   "id": "numpy-example",
   "metadata": {},
   "outputs": [],
   "source": [
    "# Create a simple NumPy array\n",
    "a = np.array([1, 2, 3, 4, 5])\n",
    "print('Array a:', a)\n",
    "\n",
    "# Perform an element-wise operation\n",
    "b = a * 2\n",
    "print('Array a multiplied by 2:', b)\n",
    "\n",
    "# Compute the mean of the array\n",
    "mean_a = np.mean(a)\n",
    "print('Mean of array a:', mean_a)"
   ]
  },
  {
   "cell_type": "markdown",
   "id": "numpy-hidden-exercise",
   "metadata": {
    "tags": [
     "exercise-hidden"
    ]
   },
   "source": [
    "### Exercise 1 (Hidden): NumPy Challenge\n",
    "\n",
    "Create a NumPy array of 10 random integers between 1 and 100 and compute the mean of the array.\n",
    "\n",
    "*Hint: Use `np.random.randint(1, 101, size=10)` to generate the array.*"
   ]
  },
  {
   "cell_type": "code",
   "execution_count": null,
   "id": "numpy-hidden-solution-placeholder",
   "metadata": {
    "tags": [
     "exercise-hidden"
    ]
   },
   "outputs": [],
   "source": [
    "# Exercise 1: Create the array and compute its mean\n",
    "random_array = np.random.randint(1, 101, size=10)\n",
    "print('Random Array:', random_array)\n",
    "print('Mean of Random Array:', np.mean(random_array))\n",
    "\n",
    "# You can compare your solution with the above output."
   ]
  },
  {
   "cell_type": "markdown",
   "id": "pandas-basics",
   "metadata": {},
   "source": [
    "## Pandas Basics: Working with DataFrames\n",
    "\n",
    "Pandas is a powerful library for data manipulation and analysis. It provides two primary data structures: **Series** and **DataFrame**.\n",
    "\n",
    "### Key Concepts:\n",
    "- **Series:** A one-dimensional labeled array capable of holding any data type.\n",
    "- **DataFrame:** A two-dimensional labeled data structure with columns of potentially different types.\n",
    "\n",
    "Let's see an example of creating a DataFrame from a dictionary:"
   ]
  },
  {
   "cell_type": "code",
   "execution_count": null,
   "id": "pandas-example",
   "metadata": {},
   "outputs": [],
   "source": [
    "# Create a DataFrame from a dictionary\n",
    "data = {\n",
    "    'Name': ['Alice', 'Bob', 'Charlie', 'David'],\n",
    "    'Age': [25, 30, 35, 40],\n",
    "    'City': ['New York', 'Los Angeles', 'Chicago', 'Houston']\n",
    "}\n",
    "\n",
    "df = pd.DataFrame(data)\n",
    "print('DataFrame:')\n",
    "print(df)\n",
    "\n",
    "# Basic operation: selecting a column\n",
    "print('\\nAges:')\n",
    "print(df['Age'])"
   ]
  },
  {
   "cell_type": "markdown",
   "id": "pandas-hidden-exercise",
   "metadata": {
    "tags": [
     "exercise-hidden"
    ]
   },
   "source": [
    "### Exercise 2 (Hidden): Pandas Challenge\n",
    "\n",
    "Using the DataFrame `df` above, filter the rows to show only the people whose age is greater than 30.\n",
    "\n",
    "*Hint: Use a boolean mask like `df[df['Age'] > 30]`.*"
   ]
  },
  {
   "cell_type": "code",
   "execution_count": null,
   "id": "pandas-hidden-solution-placeholder",
   "metadata": {
    "tags": [
     "exercise-hidden"
    ]
   },
   "outputs": [],
   "source": [
    "# Exercise 2: Filter the DataFrame for rows where Age > 30\n",
    "filtered_df = df[df['Age'] > 30]\n",
    "print('Filtered DataFrame (Age > 30):')\n",
    "print(filtered_df)\n",
    "\n",
    "# Compare your solution with the above output."
   ]
  },
  {
   "cell_type": "markdown",
   "id": "conclusion",
   "metadata": {},
   "source": [
    "## Conclusion\n",
    "\n",
    "In this notebook, you learned the basics of NumPy and Pandas, including how to create and manipulate arrays and DataFrames. The hidden exercises are designed to challenge you and help solidify your understanding. \n",
    "\n",
    "Feel free to experiment further with the code, and happy coding!"
   ]
  }
 ],
 "metadata": {
  "kernelspec": {
   "display_name": "Python 3 (ipykernel)",
   "language": "python",
   "name": "python3"
  },
  "language_info": {
   "codemirror_mode": {
    "name": "ipython",
    "version": 3
   },
   "file_extension": ".py",
   "mimetype": "text/x-python",
   "name": "python",
   "nbconvert_exporter": "python",
   "pygments_lexer": "ipython3",
   "version": "3.11.7"
  }
 },
 "nbformat": 4,
 "nbformat_minor": 5
}
